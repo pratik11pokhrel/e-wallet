{
 "cells": [
  {
   "cell_type": "markdown",
   "id": "7b7f8f1f",
   "metadata": {},
   "source": [
    "### Question 1"
   ]
  },
  {
   "cell_type": "markdown",
   "id": "8ba1a94b",
   "metadata": {},
   "source": [
    "### >> Before you proceed:"
   ]
  },
  {
   "cell_type": "markdown",
   "id": "2fc1c043",
   "metadata": {},
   "source": [
    "You could just work with the included `account.py` file, and skip this Notebook entirely if you wish to do so. This Notebook is just a repetition of the `account.py` file, and is laid out in a step-by-step way to make it easy for you to get started with."
   ]
  },
  {
   "cell_type": "markdown",
   "id": "312a2623",
   "metadata": {},
   "source": [
    "### Since you've decided to continue ..."
   ]
  },
  {
   "cell_type": "markdown",
   "id": "c7f73a09",
   "metadata": {},
   "source": [
    "### >> STEP 0:"
   ]
  },
  {
   "cell_type": "markdown",
   "id": "a82e5584",
   "metadata": {},
   "source": [
    "### Take a deep breath! Getting some things ready for you. Just run the cell below, and sit back and relax!"
   ]
  },
  {
   "cell_type": "code",
   "execution_count": 26,
   "id": "01497d85",
   "metadata": {},
   "outputs": [
    {
     "name": "stdout",
     "output_type": "stream",
     "text": [
      "Setting up a few accounts to get you started...\n",
      "\n",
      "User ID generated for user. UserID is:1040. Filling in the user details as provided.\n",
      "User ID generated for user. UserID is:1041. Filling in the user details as provided.\n",
      "User ID generated for user. UserID is:1042. Filling in the user details as provided.\n",
      "Account Created Successfully!! Account number is: 330000041 with available balance: 1500\n",
      "Account Created Successfully!! Account number is: 330000042 with available balance: 1500\n",
      "Account Created Successfully!! Account number is: 330000043 with available balance: 1500\n"
     ]
    }
   ],
   "source": [
    "import utils\n",
    "utils.setup()"
   ]
  },
  {
   "cell_type": "markdown",
   "id": "a5f969f6",
   "metadata": {},
   "source": [
    "###  ------- YOUR WORK STARTS HERE -------"
   ]
  },
  {
   "cell_type": "markdown",
   "id": "80a5f85d",
   "metadata": {},
   "source": [
    "### >> STEP 1:"
   ]
  },
  {
   "cell_type": "markdown",
   "id": "0b6121f6",
   "metadata": {},
   "source": [
    "### Please complete the appropriate methods (`deposit`, `withdraw`, `transfer_funds`) in the `Account` class given below."
   ]
  },
  {
   "cell_type": "code",
   "execution_count": 27,
   "id": "7a1633b9",
   "metadata": {},
   "outputs": [],
   "source": [
    "import wallet\n",
    "import csv\n",
    "\n",
    "TRANSACTION_RECORDS = 'account_transactions.csv'\n",
    "USER_RECORDS = 'user_records.csv'\n",
    "\n",
    "\n",
    "class Account:\n",
    "\n",
    "    ''' This class provides multiple functionalities for a pre-existing user account. A UserID, and a transaction account is first needed to be able use this \n",
    "    class. The User ID can be generated from the Customer class, and the transacion account can be created using the NewAccount class.\n",
    "\n",
    "    Usage:\n",
    "        uid = 1001\n",
    "        account_number = 3330000407 (optional)\n",
    "        myaccount = Account(uid,account_number)\n",
    "\n",
    "    Returns:\n",
    "        An account object with functions to view details, deposit, withdraw, and transfer money.\n",
    "\n",
    "    Example 1 (passing both UID and Account number):\n",
    "\n",
    "        myaccount = Account(1001, 3330000407)\n",
    "\n",
    "        myaccount.deposit(100)\n",
    "        > Deposits money (Rs. 100) to account number 1001.\n",
    "\n",
    "        myaccount.withdraw(50)\n",
    "        > Withdraws money (Rs. 50) from account number 1001.\n",
    "\n",
    "\n",
    "    Example 2 (without passing in the Account number):\n",
    "\n",
    "        youraccount = newAccount(1002)\n",
    "\n",
    "        youraccount.deposit(100)\n",
    "        youraccount.view_balance()\n",
    "        youraccount.view_account_details()\n",
    "\n",
    "    '''\n",
    "\n",
    "    _attributes = (\"UID\", \"Account Number\", \"Balance\")\n",
    "\n",
    "    def __init__(self, usr_id, acc_number=None):\n",
    "\n",
    "        self.usr_id = usr_id\n",
    "        self.acc_number = acc_number\n",
    "        if self.acc_number is None:\n",
    "            self.acc_number = self._get_account_number()\n",
    "\n",
    "    def _get_account_number(self, uid=None):\n",
    "\n",
    "        if not uid:\n",
    "            uid = self.usr_id\n",
    "        with open(TRANSACTION_RECORDS, 'r') as file:\n",
    "            reader = csv.reader(file)\n",
    "            next(reader)\n",
    "            for row in reader:\n",
    "                if row:\n",
    "                    if int(row[0]) == int(uid):\n",
    "                        return row[1]\n",
    "        print(\"Account not found. Please create a new account using the newAccount option.\")\n",
    "\n",
    "    def view_account_details(self):\n",
    "\n",
    "        with open(TRANSACTION_RECORDS, 'r') as file:\n",
    "            reader = csv.reader(file)\n",
    "            next(reader)\n",
    "            for row in reader:\n",
    "                if row:\n",
    "                    if int(row[0]) == int(self.usr_id):\n",
    "                        details = dict(zip(self._attributes[1:], row[1:]))\n",
    "\n",
    "        for keys, values in details.items():\n",
    "            print(\"{} : {}\".format(keys, values))\n",
    "\n",
    "    def view_balance(self, uid=None):\n",
    "\n",
    "        if not uid:\n",
    "            uid = self.usr_id\n",
    "\n",
    "        with open(TRANSACTION_RECORDS, 'r') as file:\n",
    "            reader = csv.reader(file)\n",
    "            next(reader)\n",
    "            for row in reader:\n",
    "                if row:\n",
    "                    if int(row[0]) == int(uid):\n",
    "                        return row[2]\n",
    "        print(\"Error occurred. Please contact support.\")\n",
    "\n",
    "\n",
    "    def deposit(self, amount):\n",
    "        try:\n",
    "            # Open the CSV file for reading and writing\n",
    "            with open (\"account_transactions.csv\", 'r+', newline='') as file:\n",
    "                \n",
    "                # Create a CSV reader object to read rows from the file\n",
    "                reader = csv.reader(file)\n",
    "                \n",
    "                # Skip header row\n",
    "                next(reader) \n",
    "                \n",
    "                # Convert the remaining rows to a list\n",
    "                rows = list(reader)\n",
    "                \n",
    "                # Check if there are any transaction records\n",
    "                if not rows:\n",
    "                    print(\"Transaction records are empty. Please create a new account using the newAccount option.\")\n",
    "                    return\n",
    "                for row in rows:\n",
    "                    \n",
    "                    # Check if the row is not empty and matches the user's ID\n",
    "                    if row and int(row[0]) == int(self.usr_id):\n",
    "                        \n",
    "                        # Get the current balance from the row\n",
    "                        current_balance = int(row[2])\n",
    "                        \n",
    "                        # add deposit amount to the current balance\n",
    "                        updated_balance = current_balance + amount\n",
    "                        \n",
    "                        # Update the balance in the row\n",
    "                        row[2] = updated_balance\n",
    "                        file.seek(0)  # Move file pointer to the beginning\n",
    "                        file.truncate()  # Clear the remaining content in the file\n",
    "                        \n",
    "                        # Create a CSV writer object to write rows to the file\n",
    "                        writer = csv.writer(file)\n",
    "                        \n",
    "                        # Write the header row\n",
    "                        writer.writerow(['UID', 'ACNumber', 'Balance'])\n",
    "                        \n",
    "                        # Write the updated rows to the file\n",
    "                        writer.writerows(rows)\n",
    "\n",
    "                        break # Exit the loop since we've found the user's account and updated it\n",
    "                else:\n",
    "                    print(\"Account not found. Please create a new account using the newAccount option.\")\n",
    "                    return\n",
    "\n",
    "            print(f\"Deposited: Rs. {amount}\")\n",
    "            print(f\"Updated Balance: Rs. {updated_balance}\")\n",
    "            \n",
    "        # Handle file not found and invalid value errors\n",
    "        except FileNotFoundError:\n",
    "            print(\"Error: File not found.\")\n",
    "        except ValueError:\n",
    "            print(\"Error: Invalid value encountered.\")\n",
    "\n",
    "\n",
    "\n",
    "\n",
    "    def withdraw(self, amount):\n",
    "        try:\n",
    "             # Open the CSV file for reading and writing\n",
    "            with open(\"account_transactions.csv\", 'r+', newline='') as file:\n",
    "                \n",
    "                # Create a CSV reader object to read rows from the file\n",
    "                reader = csv.reader(file)\n",
    "                \n",
    "                # Skip header row\n",
    "                next(reader) \n",
    "                \n",
    "                # Convert the remaining rows to a list\n",
    "                rows = list(reader)\n",
    "                \n",
    "                # Check if there are any transaction records\n",
    "                if not rows:\n",
    "                    print(\"Transaction records are empty. Please create a new account using the newAccount option.\")\n",
    "                    return\n",
    "                for row in rows:\n",
    "                    \n",
    "                    # Check if the row is not empty and matches the user's ID\n",
    "                    if row and int(row[0]) == int(self.usr_id):\n",
    "                        \n",
    "                        # Get the current balance from the row\n",
    "                        current_balance = int(row[2])\n",
    "                        \n",
    "                        # Check if the withdrawal amount is less than or equal to the current balance\n",
    "                        if amount <= current_balance:\n",
    "                            \n",
    "                            # Subtract the withdrawal amount from the current balance\n",
    "                            updated_balance = current_balance - amount\n",
    "                            \n",
    "                            # Update the balance in the row\n",
    "                            row[2] = updated_balance\n",
    "                            file.seek(0)  # Move file pointer to the beginning\n",
    "                            file.truncate()  # Clear the remaining content in the file\n",
    "                            \n",
    "                            # Create a CSV writer object to write rows to the file\n",
    "                            writer = csv.writer(file)\n",
    "                            \n",
    "                            # Write the header row\n",
    "                            writer.writerow(['UID', 'ACNumber', 'Balance'])\n",
    "                            \n",
    "                            # Write the updated rows to the file\n",
    "                            writer.writerows(rows)\n",
    "\n",
    "                            break # Exit the loop since we've found the user's account and updated it\n",
    "                        else:\n",
    "                            print(\"Insufficient balance.\")\n",
    "                            return\n",
    "                else:\n",
    "                    print(\"Account not found. Please create a new account using the newAccount option.\")\n",
    "                    return\n",
    "\n",
    "            print(f\"Deposited: Rs. {amount}\")\n",
    "            print(f\"Updated Balance: Rs. {updated_balance}\")\n",
    "            \n",
    "         # Handle file not found and invalid value errors\n",
    "        except FileNotFoundError:\n",
    "            print(\"Error: File not found.\")\n",
    "        except ValueError:\n",
    "            print(\"Error: Invalid value encountered.\")\n",
    "\n",
    "\n",
    "    def transfer_funds(self, uid, amount):\n",
    "        try:\n",
    "            # Open the CSV file for reading and writing\n",
    "            with open(\"account_transactions.csv\", 'r+', newline='') as file:\n",
    "                reader = csv.reader(file) # Use a CSV reader to read rows from the file\n",
    "                next(reader)  # Skip header row\n",
    "                rows = list(reader)\n",
    "                if not rows:\n",
    "                    print(\"Transaction records are empty. Please create a new account using the newAccount option.\")\n",
    "                    return\n",
    "                from_account_found = False\n",
    "                to_account_found = False\n",
    "                for row in rows:\n",
    "                    if row and int(row[0]) == int(self.usr_id):\n",
    "                        current_balance = int(row[2])\n",
    "                        \n",
    "                        # Check if the account has sufficient balance for the transfer\n",
    "                        if amount <= current_balance:\n",
    "                            updated_balance = current_balance - amount\n",
    "                            \n",
    "                            # Update the balance in the row\n",
    "                            row[2] = updated_balance\n",
    "                            from_account_found = True\n",
    "                            break\n",
    "                        else:\n",
    "                            print(\"Insufficient balance.\")\n",
    "                            return\n",
    "                else:\n",
    "                    print(\"Account not found. Please create a new account using the newAccount option.\")\n",
    "                    return\n",
    "\n",
    "                for row in rows:\n",
    "                    if row and int(row[0]) == int(uid):\n",
    "                        current_balance = int(row[2])\n",
    "                        update_balance = current_balance + amount\n",
    "                        \n",
    "                        # Update the balance in the row\n",
    "                        row[2] = update_balance\n",
    "                        to_account_found = True\n",
    "                        break\n",
    "                        \n",
    "                \n",
    "                if not from_account_found:\n",
    "                    print(\"Account not found. Please create a new account using the newAccount option.\")\n",
    "                    return\n",
    "\n",
    "                if not to_account_found:\n",
    "                    print(\"To-account not found.\")\n",
    "                    return\n",
    "\n",
    "                file.seek(0)  # Move file pointer to the beginning\n",
    "                file.truncate()  # Clear the remaining content in the file\n",
    "                writer = csv.writer(file) # Create a CSV writer object to write rows to the file\n",
    "                writer.writerow(['UID', 'ACNumber', 'Balance'])  # Write the header row\n",
    "                writer.writerows(rows)  # Write the updated rows to the file\n",
    "\n",
    "\n",
    "            print(f\"Transferred: Rs. {amount} from account number {self.usr_id} to UID {uid}\")\n",
    "            print(f\"Updated Balance for UID {self.usr_id}: Rs. {updated_balance}\")\n",
    "            print(f\"Updated Balance for UID {uid}: Rs. {update_balance}\")\n",
    "            \n",
    "            \n",
    "        # Handle file not found and invalid value errors\n",
    "        except FileNotFoundError:\n",
    "            print(\"Error: File not found.\")\n",
    "        except ValueError:\n",
    "            print(\"Error: Invalid value encountered.\")\n"
   ]
  },
  {
   "cell_type": "markdown",
   "id": "c8e2a8b2",
   "metadata": {},
   "source": [
    "Now that you've completed the main part, let us see if everything works as intended!!"
   ]
  },
  {
   "cell_type": "markdown",
   "id": "0851ac14",
   "metadata": {},
   "source": [
    "### >> STEP 2: "
   ]
  },
  {
   "cell_type": "markdown",
   "id": "b0aa2c76",
   "metadata": {},
   "source": [
    "### Create simple objects and test your methods to verify if they work as desired. "
   ]
  },
  {
   "cell_type": "code",
   "execution_count": 28,
   "id": "e73fc3b4",
   "metadata": {},
   "outputs": [],
   "source": [
    "test_user = wallet.Customer(1001)"
   ]
  },
  {
   "cell_type": "code",
   "execution_count": 29,
   "id": "56e3520d",
   "metadata": {},
   "outputs": [
    {
     "name": "stdout",
     "output_type": "stream",
     "text": [
      "Name    : Daniel Shrestha\n",
      "DOB     : 02/07/2002\n",
      "Address : Pulchowk\n",
      "Phone   : 9841400050\n",
      "Email   : d.shrestha@gmail.com\n"
     ]
    }
   ],
   "source": [
    "test_user.view_profile()"
   ]
  },
  {
   "cell_type": "code",
   "execution_count": 30,
   "id": "920c499d",
   "metadata": {},
   "outputs": [
    {
     "data": {
      "text/plain": [
       "1001"
      ]
     },
     "execution_count": 30,
     "metadata": {},
     "output_type": "execute_result"
    }
   ],
   "source": [
    "test_user.usr_id"
   ]
  },
  {
   "cell_type": "code",
   "execution_count": 31,
   "id": "1be5c0e0",
   "metadata": {},
   "outputs": [],
   "source": [
    "test_account = Account(test_user.usr_id)"
   ]
  },
  {
   "cell_type": "code",
   "execution_count": 32,
   "id": "cd2fed35",
   "metadata": {},
   "outputs": [
    {
     "data": {
      "text/plain": [
       "'330000002'"
      ]
     },
     "execution_count": 32,
     "metadata": {},
     "output_type": "execute_result"
    }
   ],
   "source": [
    "test_account.acc_number"
   ]
  },
  {
   "cell_type": "code",
   "execution_count": 33,
   "id": "cb127d1e",
   "metadata": {},
   "outputs": [
    {
     "name": "stdout",
     "output_type": "stream",
     "text": [
      "Account Number : 330000002\n",
      "Balance : 565\n"
     ]
    }
   ],
   "source": [
    "test_account.view_account_details()"
   ]
  },
  {
   "cell_type": "code",
   "execution_count": 34,
   "id": "3e50959a",
   "metadata": {},
   "outputs": [
    {
     "data": {
      "text/plain": [
       "'565'"
      ]
     },
     "execution_count": 34,
     "metadata": {},
     "output_type": "execute_result"
    }
   ],
   "source": [
    "test_account.view_balance()"
   ]
  },
  {
   "cell_type": "markdown",
   "id": "90700ac2",
   "metadata": {},
   "source": [
    "#### Checking the methods that you've implemented ..."
   ]
  },
  {
   "cell_type": "code",
   "execution_count": 35,
   "id": "71e39fb4",
   "metadata": {},
   "outputs": [
    {
     "name": "stdout",
     "output_type": "stream",
     "text": [
      "Deposited: Rs. 700\n",
      "Updated Balance: Rs. 1265\n"
     ]
    }
   ],
   "source": [
    "test_account.deposit(700)  # This method should deposit Rs 700 to test_account once you complete your code"
   ]
  },
  {
   "cell_type": "code",
   "execution_count": 36,
   "id": "e66bf301",
   "metadata": {},
   "outputs": [
    {
     "name": "stdout",
     "output_type": "stream",
     "text": [
      "Deposited: Rs. 350\n",
      "Updated Balance: Rs. 915\n"
     ]
    }
   ],
   "source": [
    "test_account.withdraw(350) # This method should withdraw Rs 350 from test_account once you complete your code"
   ]
  },
  {
   "cell_type": "code",
   "execution_count": 37,
   "id": "fa014b35",
   "metadata": {},
   "outputs": [
    {
     "name": "stdout",
     "output_type": "stream",
     "text": [
      "Transferred: Rs. 747 from account number 1001 to UID 1003\n",
      "Updated Balance for UID 1001: Rs. 168\n",
      "Updated Balance for UID 1003: Rs. 8313\n"
     ]
    }
   ],
   "source": [
    "test_account.transfer_funds(1003, 747) # This method should transfer Rs 747 from test_account to user account with UID: 1003 once you complete your code"
   ]
  },
  {
   "cell_type": "markdown",
   "id": "e8b8fe62",
   "metadata": {},
   "source": [
    "### >> STEP 3:"
   ]
  },
  {
   "cell_type": "markdown",
   "id": "4bbf81de",
   "metadata": {},
   "source": [
    "#### Once you complete the methods in STEP 1, you can copy and paste the entire content of the above cell (STEP 1 only) to the included `account.py` python file (replacing the already existing content of the `account.py` script entirely)."
   ]
  },
  {
   "cell_type": "markdown",
   "id": "97006459",
   "metadata": {},
   "source": [
    "### >> STEP 4:"
   ]
  },
  {
   "cell_type": "markdown",
   "id": "7c9c9811",
   "metadata": {},
   "source": [
    "### Now import and run the `runtest ` method from `utils.py` file to see if everything works as intended (as shown below)."
   ]
  },
  {
   "cell_type": "code",
   "execution_count": 38,
   "id": "48375bbd",
   "metadata": {},
   "outputs": [
    {
     "name": "stdout",
     "output_type": "stream",
     "text": [
      "Starting the TEST by registering a new user and creating user profile.\n",
      "\n",
      "User ID generated for user. UserID is:1043. Filling in the user details as provided.\n",
      "\n",
      "Viewing User profile details:\n",
      "\n",
      "Name    : Jenny Wallace\n",
      "DOB     : 03/09/2003\n",
      "Address : Oldenberg\n",
      "Phone   : 9841420082\n",
      "Email   : j.wallace@gmail.com\n",
      "\n",
      "Updating the user Address to :'Baneshwor-KTM'\n",
      "User(UID: 1043)'s Address updated successfully to Baneshwor-KTM!\n",
      "\n",
      "Viewing user profile details after updating address:\n",
      "\n",
      "Name    : Jenny Wallace\n",
      "DOB     : 03/09/2003\n",
      "Address : Baneshwor-KTM\n",
      "Phone   : 9841420082\n",
      "Email   : j.wallace@gmail.com\n",
      "\n",
      "Updating the user phone number to :9851011121\n",
      "User(UID: 1043)'s Phone updated successfully to 9851011121!\n",
      "\n",
      "Viewing user profile details after updating phone number:\n",
      "\n",
      "Name    : Jenny Wallace\n",
      "DOB     : 03/09/2003\n",
      "Address : Baneshwor-KTM\n",
      "Phone   : 9851011121\n",
      "Email   : j.wallace@gmail.com\n",
      "\n",
      "Proceeding to create a new transaction account for our user with Rs. 1500 starting balance.\n",
      "\n",
      "Account Created Successfully!! Account number is: 330000044 with available balance: 1500\n",
      "\n",
      "Creating two more user profiles and transaction accounts with Rs. 1500 starting balance each.\n",
      "\n",
      "User ID generated for user. UserID is:1044. Filling in the user details as provided.\n",
      "User ID generated for user. UserID is:1045. Filling in the user details as provided.\n",
      "Account Created Successfully!! Account number is: 330000045 with available balance: 1500\n",
      "Account Created Successfully!! Account number is: 330000046 with available balance: 1500\n",
      "\n",
      "Now *** TESTING YOUR CODE *** on the Account class for the first user!\n",
      "\n",
      "Viewing account details.\n",
      "Account Number : 330000044\n",
      "Balance : 1500\n",
      "\n",
      "Viewing balance in the account.\n",
      "The balance is:  1500\n",
      "\n",
      "Deposit Rs 100 in the account.\n",
      "\n",
      "Deposited: Rs. 100\n",
      "Updated Balance: Rs. 1600\n",
      "\n",
      "Withdraw Rs 50 from the account.\n",
      "Deposited: Rs. 50\n",
      "Updated Balance: Rs. 1550\n",
      "\n",
      "Try to overdraw the account. Attempt to withdraw 5000\n",
      "Insufficient balance.\n",
      "\n",
      "Transfer Rs 9000 to a friend with user ID 1003.\n",
      "Insufficient balance.\n",
      "\n",
      "Transfer Rs 333 to a friend with user ID 1003.\n",
      "Transferred: Rs. 333 from account number 1043 to account number 1003\n",
      "Updated Balance for account number 1043: Rs. 8646\n",
      "Updated Balance for account number 1003: Rs. 8646\n",
      "\n",
      "Preliminary tests ran successfully!! YOU PASSED THE FIRST TASK! Only two more to go!!\n",
      "\n"
     ]
    }
   ],
   "source": [
    "import utils\n",
    "utils.runtest()"
   ]
  },
  {
   "cell_type": "markdown",
   "id": "4081fd58",
   "metadata": {},
   "source": [
    "### If everything runs fine, you should see a message along the lines of : `Preliminary tests ran successfully!!`"
   ]
  },
  {
   "cell_type": "markdown",
   "id": "69fcb8a1",
   "metadata": {},
   "source": [
    "###  ------- END OF TASK 1 -------"
   ]
  },
  {
   "cell_type": "code",
   "execution_count": null,
   "id": "cfd02921",
   "metadata": {},
   "outputs": [],
   "source": []
  }
 ],
 "metadata": {
  "kernelspec": {
   "display_name": "Python 3 (ipykernel)",
   "language": "python",
   "name": "python3"
  },
  "language_info": {
   "codemirror_mode": {
    "name": "ipython",
    "version": 3
   },
   "file_extension": ".py",
   "mimetype": "text/x-python",
   "name": "python",
   "nbconvert_exporter": "python",
   "pygments_lexer": "ipython3",
   "version": "3.11.2"
  }
 },
 "nbformat": 4,
 "nbformat_minor": 5
}
