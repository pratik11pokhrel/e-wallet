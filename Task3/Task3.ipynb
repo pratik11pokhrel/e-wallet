{
 "cells": [
  {
   "cell_type": "markdown",
   "id": "43eab825",
   "metadata": {},
   "source": [
    " 1.The file tourist_arrival.csv shows the number of tourists that visited Nepal each month from the year\n",
    "1992 to the year 2013. Read the given file\n",
    "\n",
    "a. Make a bar plot for the number of tourists that arrived each month (Jan - Dec). Make sure to take the\n",
    "average value from all the years (1992-2013)"
   ]
  },
  {
   "cell_type": "code",
   "execution_count": 1,
   "id": "5d6eda4c",
   "metadata": {},
   "outputs": [
    {
     "data": {
      "image/png": "[encoded data removed]",
      "text/plain": [
       "<Figure size 640x480 with 1 Axes>"
      ]
     },
     "metadata": {},
     "output_type": "display_data"
    }
   ],
   "source": [
    "\n",
    "import pandas as pd\n",
    "import matplotlib.pyplot as plt\n",
    "\n",
    "a=pd.read_csv('tourist_arrival.csv',index_col=0)\n",
    "av_values=a.mean(axis=0)\n",
    "# a.plot.bar()\n",
    "plt.xlabel(\"Month\")\n",
    "plt.ylabel(\"Number of tourist\")\n",
    "av_values.plot.bar()\n",
    "plt.show()\n"
   ]
  },
  {
   "cell_type": "markdown",
   "id": "792a1ffd",
   "metadata": {},
   "source": [
    " 2.The seasons are defined as follows:\n",
    "Spring (March, April, May), \n",
    "Summer (June, July, August),\n",
    "Autumn(September, October, November), \n",
    "Winter (December, January, February). \n",
    "From the data, can you predict\n",
    "the most popular season for tourist arrival as well as the least popular season."
   ]
  },
  {
   "cell_type": "code",
   "execution_count": 2,
   "id": "0ce8cb77",
   "metadata": {},
   "outputs": [
    {
     "name": "stdout",
     "output_type": "stream",
     "text": [
      "Spring is the most popular season\n",
      "Winter is the least popular season\n"
     ]
    }
   ],
   "source": [
    "# Spring (March, April, May) \n",
    "# Summer (June, July, August)\n",
    "# Autumn(September, October, November)\n",
    "# Winter (December,January, February)\n",
    "\n",
    "import csv\n",
    "\n",
    "spring = 0\n",
    "summer = 0\n",
    "autumn = 0\n",
    "winter = 0\n",
    "\n",
    "with open('tourist_arrival.csv', 'r') as f:\n",
    "    reader = csv.reader(f)\n",
    "    next(reader)\n",
    "    for row in reader:\n",
    "        spring = int(row[3]+row[4]+row[5])\n",
    "        summer= int(row[6]+row[7]+row[8])\n",
    "        autumn=int(row[9]+row[10]+row[11])\n",
    "        winter=int(row[1]+row[2]+row[12])\n",
    "\n",
    "if spring >= summer and spring >= autumn and spring >= winter:\n",
    "    print(\"Spring is the most popular season\")\n",
    "elif summer >= spring and summer >= autumn and summer >= winter:\n",
    "    print(\"Summer is the most popular season\")\n",
    "elif autumn >= spring and autumn >= summer and autumn >= winter:\n",
    "    print(\"Autumn is the popular season\")\n",
    "else:\n",
    "    print(\"Winter is the most popular season\")\n",
    "    \n",
    "if spring <= summer and spring <= autumn and spring <= winter:\n",
    "    print(\"Spring is the least popular season\")\n",
    "elif summer <= spring and summer <= autumn and summer <= winter:\n",
    "    print(\"Summer is the least popular season\")\n",
    "elif autumn <= spring and autumn <= summer and autumn <= winter:\n",
    "    print(\"Autumn is the least popular season\")\n",
    "else:\n",
    "    print(\"Winter is the least popular season\")\n",
    "\n",
    "\n",
    "   \n",
    "   \n",
    "\n"
   ]
  },
  {
   "cell_type": "markdown",
   "id": "5ff49f9f",
   "metadata": {},
   "source": [
    "3.Can you predict the five worst months from the data where the tourist arrival was at its\n",
    "lowest. \n",
    "[Hint: Your answer should be set like: June 2001, July 2002, …]\n"
   ]
  },
  {
   "cell_type": "code",
   "execution_count": 4,
   "id": "68f590da",
   "metadata": {},
   "outputs": [
    {
     "name": "stdout",
     "output_type": "stream",
     "text": [
      "Jul. 1993\n",
      "Jun. 2001\n",
      "Jan. 2002\n",
      "May. 2002\n",
      "Feb. 2005\n"
     ]
    }
   ],
   "source": [
    "import pandas as pd\n",
    "\n",
    "\n",
    "df = pd.read_csv('tourist_arrival.csv')\n",
    "\n",
    "\n",
    "monthly_averages = df.mean(axis=0)[1: ]\n",
    "\n",
    "worst_months = monthly_averages.sort_values().index[:5]\n",
    "\n",
    "for month in worst_months:\n",
    "    year = df.iloc[df[month].idxmin()]['Year']\n",
    "    print(month + ' ' + str(year))\n"
   ]
  }
 ],
 "metadata": {
  "kernelspec": {
   "display_name": "Python 3 (ipykernel)",
   "language": "python",
   "name": "python3"
  },
  "language_info": {
   "codemirror_mode": {
    "name": "ipython",
    "version": 3
   },
   "file_extension": ".py",
   "mimetype": "text/x-python",
   "name": "python",
   "nbconvert_exporter": "python",
   "pygments_lexer": "ipython3",
   "version": "3.11.2"
  }
 },
 "nbformat": 4,
 "nbformat_minor": 5
}
