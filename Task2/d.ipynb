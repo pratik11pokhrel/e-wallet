{
 "cells": [
  {
   "cell_type": "code",
   "execution_count": 1,
   "metadata": {},
   "outputs": [],
   "source": [
    "# d)\n",
    "import numpy as np\n",
    "from PIL import Image\n",
    "\n",
    "# Load the first image\n",
    "img1 = Image.open('sample_one.jpg')\n",
    "\n",
    "# Get the original image dimensions\n",
    "original_width, original_height = img1.size\n",
    "\n",
    "# Compute the new dimensions after cropping by 80%\n",
    "new_width = int(original_width * 0.8)\n",
    "new_height = int(original_height * 0.8)\n",
    "\n",
    "# Compute the amount to crop from each side\n",
    "crop_width = int((original_width - new_width) / 2)\n",
    "crop_height = int((original_height - new_height) / 2)\n",
    "\n",
    "# Convert the image to a NumPy array\n",
    "img1_array = np.array(img1)\n",
    "\n",
    "# Crop the array uniformly from all sides\n",
    "cropped_array1 = img1_array[crop_height:original_height-crop_height, crop_width:original_width-crop_width]\n",
    "\n",
    "# Convert the cropped array back to an image and save it\n",
    "cropped_img1 = Image.fromarray(cropped_array1)\n",
    "cropped_img1.save('final_image1.jpg')\n",
    "\n",
    "\n",
    "# Load the second image\n",
    "img2 = Image.open('sample_two.png')\n",
    "\n",
    "# Get the original image dimensions\n",
    "original_width, original_height = img2.size\n",
    "\n",
    "# Compute the new dimensions after cropping by 80%\n",
    "new_width = int(original_width * 0.8)\n",
    "new_height = int(original_height * 0.8)\n",
    "\n",
    "# Compute the amount to crop from each side\n",
    "crop_width = int((original_width - new_width) / 2)\n",
    "crop_height = int((original_height - new_height) / 2)\n",
    "\n",
    "# Convert the image to a NumPy array\n",
    "img2_array = np.array(img2)\n",
    "\n",
    "# Crop the array uniformly from all sides\n",
    "cropped_array2 = img2_array[crop_height:original_height-crop_height, crop_width:original_width-crop_width]\n",
    "\n",
    "# Convert the cropped array back to an image and save it\n",
    "cropped_img2 = Image.fromarray(cropped_array2)\n",
    "cropped_img2.save('final_image2.png')\n"
   ]
  }
 ],
 "metadata": {
  "kernelspec": {
   "display_name": "Python 3",
   "language": "python",
   "name": "python3"
  },
  "language_info": {
   "codemirror_mode": {
    "name": "ipython",
    "version": 3
   },
   "file_extension": ".py",
   "mimetype": "text/x-python",
   "name": "python",
   "nbconvert_exporter": "python",
   "pygments_lexer": "ipython3",
   "version": "3.11.2"
  },
  "orig_nbformat": 4
 },
 "nbformat": 4,
 "nbformat_minor": 2
}
